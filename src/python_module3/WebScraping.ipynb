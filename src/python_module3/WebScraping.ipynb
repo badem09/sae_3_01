{
 "cells": [
  {
   "cell_type": "markdown",
   "metadata": {
    "collapsed": false
   },
   "source": [
    "# Web Scraping"
   ]
  },
  {
   "cell_type": "markdown",
   "metadata": {
    "collapsed": false
   },
   "source": [
    "L'objectif de ce notebook est de pouvoir déduire les sentiments d'un texte selon la data fournie.\n",
    "Pour cela, nous allons déduire les sentiments de textes financiers, provenant d'un data scrappé depuis le site ft.com."
   ]
  },
  {
   "cell_type": "markdown",
   "metadata": {
    "collapsed": false
   },
   "source": [
    "## Creation des Données à l'aide du site"
   ]
  },
  {
   "cell_type": "markdown",
   "metadata": {
    "collapsed": false
   },
   "source": [
    "##### Voici les différentes librairies utilisées dans notre script de scraping"
   ]
  },
  {
   "cell_type": "code",
   "execution_count": 1,
   "metadata": {
    "collapsed": false
   },
   "outputs": [],
   "source": [
    "from bs4 import BeautifulSoup\n",
    "import requests"
   ]
  },
  {
   "cell_type": "markdown",
   "metadata": {
    "collapsed": false
   },
   "source": [
    "##### Lien du Site"
   ]
  },
  {
   "cell_type": "code",
   "execution_count": 2,
   "metadata": {
    "collapsed": false
   },
   "outputs": [],
   "source": [
    "url = 'https://www.ft.com/global-economy'\n",
    "response = requests.get(url)"
   ]
  },
  {
   "cell_type": "markdown",
   "metadata": {
    "collapsed": false
   },
   "source": [
    "##### On parse le document HTML du site"
   ]
  },
  {
   "cell_type": "code",
   "execution_count": 3,
   "metadata": {
    "collapsed": false
   },
   "outputs": [],
   "source": [
    "soup = BeautifulSoup(response.text, 'html.parser')"
   ]
  },
  {
   "cell_type": "markdown",
   "metadata": {
    "collapsed": false
   },
   "source": [
    "##### On récupère la div \"o-teaser__heading\" où se trouve les informations financières du site"
   ]
  },
  {
   "cell_type": "code",
   "execution_count": 4,
   "metadata": {
    "collapsed": false
   },
   "outputs": [],
   "source": [
    "div = soup.find_all(\"div\", {\"class\": \"o-teaser__heading\"})\n",
    "div_time = soup.find_all('time',{\"class\": \"o-date\"})\n",
    "div_article = soup.find_all(\"div\", {\"class\": \"o-teaser--article\"})\n",
    "div_title_article = [div.find(\"div\", {\"class\": \"o-teaser__heading\"}) for div in div_article]"
   ]
  },
  {
   "cell_type": "markdown",
   "metadata": {
    "collapsed": false
   },
   "source": [
    "##### Titre pour le fichier de data"
   ]
  },
  {
   "cell_type": "code",
   "execution_count": 5,
   "metadata": {
    "collapsed": false
   },
   "outputs": [],
   "source": [
    "title = \"News_Financieres;\""
   ]
  },
  {
   "cell_type": "markdown",
   "metadata": {
    "collapsed": false
   },
   "source": [
    "##### Creation du fichier de data extrait du site à l'aide du Web Scrapping"
   ]
  },
  {
   "cell_type": "code",
   "execution_count": 6,
   "metadata": {
    "collapsed": false
   },
   "outputs": [],
   "source": [
    "with open('data_WebScrapping.csv', 'w', encoding='utf-8') as csv_file:\n",
    "    csv_file.write(title + '\\n')\n",
    "    for x in div_title_article:\n",
    "        csv_file.write(x.getText() + \";\" + '\\n')"
   ]
  },
  {
   "cell_type": "markdown",
   "metadata": {
    "collapsed": false
   },
   "source": [
    "## Nettoyons et mettons en forme les data afin de les fournir à notre modèle"
   ]
  },
  {
   "cell_type": "markdown",
   "metadata": {
    "collapsed": false
   },
   "source": [
    "Nous alonns fournir ces données aux modèles précedement réalisé."
   ]
  },
  {
   "cell_type": "markdown",
   "metadata": {
    "collapsed": false
   },
   "source": [
    "### Libraries"
   ]
  },
  {
   "cell_type": "markdown",
   "metadata": {
    "collapsed": false
   },
   "source": [
    "##### Voici les différentes librairies utilisées dans notre modèle"
   ]
  },
  {
   "cell_type": "code",
   "execution_count": 7,
   "metadata": {
    "collapsed": false
   },
   "outputs": [],
   "source": [
    "import pandas as pd"
   ]
  },
  {
   "cell_type": "markdown",
   "metadata": {
    "collapsed": false
   },
   "source": [
    "### Load Data"
   ]
  },
  {
   "cell_type": "markdown",
   "metadata": {
    "collapsed": false
   },
   "source": [
    "##### Chargeons les datas issues des datas scrapées"
   ]
  },
  {
   "cell_type": "code",
   "execution_count": 8,
   "metadata": {
    "collapsed": false
   },
   "outputs": [],
   "source": [
    "df = pd.read_csv(\"data_WebScrapping.csv\", sep=';')"
   ]
  },
  {
   "cell_type": "markdown",
   "metadata": {
    "collapsed": false
   },
   "source": [
    "##### Affichons les valeurs du fichier"
   ]
  },
  {
   "cell_type": "code",
   "execution_count": 9,
   "metadata": {
    "collapsed": false
   },
   "outputs": [
    {
     "data": {
      "text/plain": "                                    News_Financieres  Unnamed: 1\n0  Yen slides as new Bank of Japan governor stick...         NaN\n1           What is US trade policy? Premium content         NaN\n2                    Why Taiwan matters to the world         NaN\n3  FirstFT: China responds to Taiwan’s US visit w...         NaN\n4  Beijing chooses targets carefully as it goes o...         NaN",
      "text/html": "<div>\n<style scoped>\n    .dataframe tbody tr th:only-of-type {\n        vertical-align: middle;\n    }\n\n    .dataframe tbody tr th {\n        vertical-align: top;\n    }\n\n    .dataframe thead th {\n        text-align: right;\n    }\n</style>\n<table border=\"1\" class=\"dataframe\">\n  <thead>\n    <tr style=\"text-align: right;\">\n      <th></th>\n      <th>News_Financieres</th>\n      <th>Unnamed: 1</th>\n    </tr>\n  </thead>\n  <tbody>\n    <tr>\n      <th>0</th>\n      <td>Yen slides as new Bank of Japan governor stick...</td>\n      <td>NaN</td>\n    </tr>\n    <tr>\n      <th>1</th>\n      <td>What is US trade policy? Premium content</td>\n      <td>NaN</td>\n    </tr>\n    <tr>\n      <th>2</th>\n      <td>Why Taiwan matters to the world</td>\n      <td>NaN</td>\n    </tr>\n    <tr>\n      <th>3</th>\n      <td>FirstFT: China responds to Taiwan’s US visit w...</td>\n      <td>NaN</td>\n    </tr>\n    <tr>\n      <th>4</th>\n      <td>Beijing chooses targets carefully as it goes o...</td>\n      <td>NaN</td>\n    </tr>\n  </tbody>\n</table>\n</div>"
     },
     "execution_count": 9,
     "metadata": {},
     "output_type": "execute_result"
    }
   ],
   "source": [
    "df.head()"
   ]
  },
  {
   "cell_type": "markdown",
   "metadata": {
    "collapsed": false
   },
   "source": [
    "##### Dimension du tableau"
   ]
  },
  {
   "cell_type": "code",
   "execution_count": 10,
   "metadata": {
    "collapsed": false
   },
   "outputs": [
    {
     "data": {
      "text/plain": "(25, 2)"
     },
     "execution_count": 10,
     "metadata": {},
     "output_type": "execute_result"
    }
   ],
   "source": [
    "df.shape"
   ]
  },
  {
   "cell_type": "markdown",
   "metadata": {
    "collapsed": false
   },
   "source": [
    "##### Supprimons les colonnes inutiles"
   ]
  },
  {
   "cell_type": "code",
   "execution_count": 11,
   "metadata": {
    "collapsed": false
   },
   "outputs": [],
   "source": [
    "df = df.drop(columns=\"Unnamed: 1\")"
   ]
  },
  {
   "cell_type": "code",
   "execution_count": 12,
   "metadata": {
    "collapsed": false
   },
   "outputs": [
    {
     "data": {
      "text/plain": "                                    News_Financieres\n0  Yen slides as new Bank of Japan governor stick...\n1           What is US trade policy? Premium content\n2                    Why Taiwan matters to the world\n3  FirstFT: China responds to Taiwan’s US visit w...\n4  Beijing chooses targets carefully as it goes o...",
      "text/html": "<div>\n<style scoped>\n    .dataframe tbody tr th:only-of-type {\n        vertical-align: middle;\n    }\n\n    .dataframe tbody tr th {\n        vertical-align: top;\n    }\n\n    .dataframe thead th {\n        text-align: right;\n    }\n</style>\n<table border=\"1\" class=\"dataframe\">\n  <thead>\n    <tr style=\"text-align: right;\">\n      <th></th>\n      <th>News_Financieres</th>\n    </tr>\n  </thead>\n  <tbody>\n    <tr>\n      <th>0</th>\n      <td>Yen slides as new Bank of Japan governor stick...</td>\n    </tr>\n    <tr>\n      <th>1</th>\n      <td>What is US trade policy? Premium content</td>\n    </tr>\n    <tr>\n      <th>2</th>\n      <td>Why Taiwan matters to the world</td>\n    </tr>\n    <tr>\n      <th>3</th>\n      <td>FirstFT: China responds to Taiwan’s US visit w...</td>\n    </tr>\n    <tr>\n      <th>4</th>\n      <td>Beijing chooses targets carefully as it goes o...</td>\n    </tr>\n  </tbody>\n</table>\n</div>"
     },
     "execution_count": 12,
     "metadata": {},
     "output_type": "execute_result"
    }
   ],
   "source": [
    "df.head()"
   ]
  },
  {
   "cell_type": "markdown",
   "metadata": {
    "collapsed": false
   },
   "source": [
    "##### Choisissons une valeur aléatoire afin de tester les datas"
   ]
  },
  {
   "cell_type": "code",
   "execution_count": 13,
   "metadata": {
    "collapsed": false
   },
   "outputs": [
    {
     "data": {
      "text/plain": "'India’s central bank holds interest rates amid global banking turbulence'"
     },
     "execution_count": 13,
     "metadata": {},
     "output_type": "execute_result"
    }
   ],
   "source": [
    "df.iloc[24].News_Financieres"
   ]
  },
  {
   "cell_type": "markdown",
   "metadata": {
    "collapsed": false
   },
   "source": [
    "##### Décrivons les différentes valeurs du tableau (count, mean, top, freq)"
   ]
  },
  {
   "cell_type": "code",
   "execution_count": 14,
   "metadata": {
    "collapsed": false
   },
   "outputs": [
    {
     "data": {
      "text/plain": "                                         News_Financieres\ncount                                                  25\nunique                                                 25\ntop     Yen slides as new Bank of Japan governor stick...\nfreq                                                    1",
      "text/html": "<div>\n<style scoped>\n    .dataframe tbody tr th:only-of-type {\n        vertical-align: middle;\n    }\n\n    .dataframe tbody tr th {\n        vertical-align: top;\n    }\n\n    .dataframe thead th {\n        text-align: right;\n    }\n</style>\n<table border=\"1\" class=\"dataframe\">\n  <thead>\n    <tr style=\"text-align: right;\">\n      <th></th>\n      <th>News_Financieres</th>\n    </tr>\n  </thead>\n  <tbody>\n    <tr>\n      <th>count</th>\n      <td>25</td>\n    </tr>\n    <tr>\n      <th>unique</th>\n      <td>25</td>\n    </tr>\n    <tr>\n      <th>top</th>\n      <td>Yen slides as new Bank of Japan governor stick...</td>\n    </tr>\n    <tr>\n      <th>freq</th>\n      <td>1</td>\n    </tr>\n  </tbody>\n</table>\n</div>"
     },
     "execution_count": 14,
     "metadata": {},
     "output_type": "execute_result"
    }
   ],
   "source": [
    "df.describe()"
   ]
  },
  {
   "cell_type": "markdown",
   "metadata": {
    "collapsed": false
   },
   "source": [
    "##### Observons les types des valeurs du tableau"
   ]
  },
  {
   "cell_type": "code",
   "execution_count": 15,
   "metadata": {
    "collapsed": false
   },
   "outputs": [
    {
     "data": {
      "text/plain": "News_Financieres    object\ndtype: object"
     },
     "execution_count": 15,
     "metadata": {},
     "output_type": "execute_result"
    }
   ],
   "source": [
    "df.dtypes"
   ]
  },
  {
   "cell_type": "markdown",
   "metadata": {
    "collapsed": false
   },
   "source": [
    "##### Vérifions la présence de valeurs nulles dans le tableau"
   ]
  },
  {
   "cell_type": "code",
   "execution_count": 16,
   "metadata": {
    "collapsed": false
   },
   "outputs": [
    {
     "data": {
      "text/plain": "News_Financieres    0\ndtype: int64"
     },
     "execution_count": 16,
     "metadata": {},
     "output_type": "execute_result"
    }
   ],
   "source": [
    "df.isna().sum()"
   ]
  },
  {
   "cell_type": "markdown",
   "metadata": {
    "collapsed": false
   },
   "source": [
    "### Data Analysis"
   ]
  },
  {
   "cell_type": "markdown",
   "metadata": {
    "collapsed": false
   },
   "source": [
    "##### Affichons les valeurs souhaitées"
   ]
  },
  {
   "cell_type": "code",
   "execution_count": 17,
   "metadata": {
    "collapsed": false
   },
   "outputs": [
    {
     "data": {
      "text/plain": "0     Yen slides as new Bank of Japan governor stick...\n1              What is US trade policy? Premium content\n2                       Why Taiwan matters to the world\n3     FirstFT: China responds to Taiwan’s US visit w...\n4     Beijing chooses targets carefully as it goes o...\n5     Ghana’s bilateral creditors set to clear way f...\n6     Croatia’s central bank boss defends euro as co...\n7       Why America’s big companies keep getting bigger\n8     Banking tremors leave a legacy of credit contr...\n9     Global economy fends off geopolitical and bank...\n10                              Milestones and meetings\n11    If tech is driving the ‘productivity bandwagon...\n12    Ambition is needed to rebuild trust in multila...\n13                  Will US inflation continue to slow?\n14    US data raises hopes Fed’s efforts to curb inf...\n15    US jobs growth slowed in March as Fed put brak...\n16    Russia’s foreign minister threatens to scrap U...\n17       FirstFT: US jobs market shows signs of cooling\n18    The battle for UK businesses to hold down cust...\n19    South Korean biotech companies seek to diversi...\n20    Germany seeks to limit Brussels’ scope on nati...\n21    Global economy set for years of weak growth, I...\n22       FirstFT: Hedge funds cash in on banking chaos \n23    When do banking failures matter for the econom...\n24    India’s central bank holds interest rates amid...\nName: News_Financieres, dtype: object"
     },
     "execution_count": 17,
     "metadata": {},
     "output_type": "execute_result"
    }
   ],
   "source": [
    "df.News_Financieres"
   ]
  },
  {
   "cell_type": "markdown",
   "metadata": {
    "collapsed": false
   },
   "source": [
    "## Models"
   ]
  },
  {
   "cell_type": "markdown",
   "metadata": {
    "collapsed": false
   },
   "source": [
    "##### Utilisons le modèle de la partie précedente afin de déterminer le sentiment du texte"
   ]
  },
  {
   "cell_type": "code",
   "execution_count": 18,
   "metadata": {
    "collapsed": false
   },
   "outputs": [],
   "source": [
    "from joblib import load\n",
    "model = load('model.joblib')"
   ]
  },
  {
   "cell_type": "code",
   "execution_count": 19,
   "metadata": {
    "collapsed": false
   },
   "outputs": [
    {
     "name": "stdout",
     "output_type": "stream",
     "text": [
      "['neutral' 'neutral' 'neutral' 'positive' 'positive' 'neutral' 'neutral'\n",
      " 'positive' 'neutral' 'neutral' 'neutral' 'neutral' 'neutral' 'neutral'\n",
      " 'positive' 'negative' 'positive' 'negative' 'neutral' 'positive'\n",
      " 'neutral' 'positive' 'neutral' 'neutral' 'neutral']\n"
     ]
    }
   ],
   "source": [
    "pred = model.predict(df.News_Financieres)\n",
    "print(pred)"
   ]
  }
 ],
 "metadata": {
  "kernelspec": {
   "display_name": "Python 3",
   "language": "python",
   "name": "python3"
  },
  "language_info": {
   "codemirror_mode": {
    "name": "ipython",
    "version": 3
   },
   "file_extension": ".py",
   "mimetype": "text/x-python",
   "name": "python",
   "nbconvert_exporter": "python",
   "pygments_lexer": "ipython3",
   "version": "3.11.2"
  }
 },
 "nbformat": 4,
 "nbformat_minor": 0
}
